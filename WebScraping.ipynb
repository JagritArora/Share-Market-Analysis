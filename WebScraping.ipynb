{
 "cells": [
  {
   "cell_type": "markdown",
   "id": "a39d0c07",
   "metadata": {},
   "source": [
    "# WEB SCRAPING"
   ]
  },
  {
   "cell_type": "code",
   "execution_count": 1,
   "id": "3fe9ef0b",
   "metadata": {},
   "outputs": [],
   "source": [
    "import requests\n",
    "from bs4 import BeautifulSoup"
   ]
  },
  {
   "cell_type": "code",
   "execution_count": 2,
   "id": "3dd12965",
   "metadata": {},
   "outputs": [],
   "source": [
    "url = \"https://www.moneycontrol.com/india/stockpricequote/\""
   ]
  },
  {
   "cell_type": "code",
   "execution_count": 3,
   "id": "3e16278b",
   "metadata": {},
   "outputs": [],
   "source": [
    "page = requests.get(url)\n",
    "soup = BeautifulSoup(page.text, 'lxml')"
   ]
  },
  {
   "cell_type": "markdown",
   "id": "2feb75b0",
   "metadata": {},
   "source": [
    "### Getting Links"
   ]
  },
  {
   "cell_type": "code",
   "execution_count": 4,
   "id": "1e969230",
   "metadata": {},
   "outputs": [],
   "source": [
    "import re"
   ]
  },
  {
   "cell_type": "code",
   "execution_count": 5,
   "id": "ef87592f",
   "metadata": {},
   "outputs": [],
   "source": [
    "links = []\n",
    "for i in soup.find_all(\"tr\"):\n",
    "    for j in i:\n",
    "        link = re.findall(r\"href=(.*)\\stitle\",str(j))\n",
    "        if link:\n",
    "            links.append(link)"
   ]
  },
  {
   "cell_type": "code",
   "execution_count": 6,
   "id": "23bfc305",
   "metadata": {},
   "outputs": [],
   "source": [
    "links = links[1:] # 0th element was trash"
   ]
  },
  {
   "cell_type": "code",
   "execution_count": 7,
   "id": "ad3644d8",
   "metadata": {},
   "outputs": [
    {
     "data": {
      "text/plain": [
       "471"
      ]
     },
     "execution_count": 7,
     "metadata": {},
     "output_type": "execute_result"
    }
   ],
   "source": [
    "len(links)"
   ]
  },
  {
   "cell_type": "code",
   "execution_count": 8,
   "id": "f21bc7ba",
   "metadata": {},
   "outputs": [
    {
     "data": {
      "text/plain": [
       "[['\"https://www.moneycontrol.com/india/stockpricequote/diversified/3mindia/MI42\"'],\n",
       " ['\"https://www.moneycontrol.com/india/stockpricequote/pharmaceuticals/aartidrugs/AD\"'],\n",
       " ['\"https://www.moneycontrol.com/india/stockpricequote/chemicals/aartiindustries/AI45\"']]"
      ]
     },
     "execution_count": 8,
     "metadata": {},
     "output_type": "execute_result"
    }
   ],
   "source": [
    "links[:3]"
   ]
  },
  {
   "cell_type": "code",
   "execution_count": 9,
   "id": "90e2c754",
   "metadata": {},
   "outputs": [],
   "source": [
    "Links = []\n",
    "for i in links:\n",
    "    Links.append(i[0][1:-1])"
   ]
  },
  {
   "cell_type": "code",
   "execution_count": 10,
   "id": "62433010",
   "metadata": {},
   "outputs": [
    {
     "data": {
      "text/plain": [
       "['https://www.moneycontrol.com/india/stockpricequote/diversified/3mindia/MI42',\n",
       " 'https://www.moneycontrol.com/india/stockpricequote/pharmaceuticals/aartidrugs/AD',\n",
       " 'https://www.moneycontrol.com/india/stockpricequote/chemicals/aartiindustries/AI45']"
      ]
     },
     "execution_count": 10,
     "metadata": {},
     "output_type": "execute_result"
    }
   ],
   "source": [
    "Links[:3]"
   ]
  },
  {
   "cell_type": "code",
   "execution_count": 11,
   "id": "5bb77bc6",
   "metadata": {},
   "outputs": [
    {
     "data": {
      "text/plain": [
       "471"
      ]
     },
     "execution_count": 11,
     "metadata": {},
     "output_type": "execute_result"
    }
   ],
   "source": [
    "len(Links)"
   ]
  },
  {
   "cell_type": "markdown",
   "id": "4826d4db",
   "metadata": {},
   "source": [
    "### Company Name"
   ]
  },
  {
   "cell_type": "code",
   "execution_count": 12,
   "id": "51ba1611",
   "metadata": {},
   "outputs": [
    {
     "data": {
      "text/plain": [
       "'3M India Ltd.'"
      ]
     },
     "execution_count": 12,
     "metadata": {},
     "output_type": "execute_result"
    }
   ],
   "source": [
    "page = requests.get(Links[0])\n",
    "soup = BeautifulSoup(page.text, 'lxml')\n",
    "divs = soup.find('div', {'class' : 'inid_name'})\n",
    "divs.find('h1').text"
   ]
  },
  {
   "cell_type": "code",
   "execution_count": 13,
   "id": "309a2981",
   "metadata": {},
   "outputs": [],
   "source": [
    "Company_Name = []\n",
    "for link in Links:\n",
    "    page = requests.get(link)\n",
    "    soup = BeautifulSoup(page.text, 'lxml')\n",
    "    divs = soup.find('div', {'class' : 'inid_name'})\n",
    "    company_name = divs.find('h1').text\n",
    "    Company_Name.append(company_name)"
   ]
  },
  {
   "cell_type": "markdown",
   "id": "e74aefeb",
   "metadata": {},
   "source": [
    "### Sector"
   ]
  },
  {
   "cell_type": "code",
   "execution_count": 14,
   "id": "e951e52d",
   "metadata": {},
   "outputs": [
    {
     "data": {
      "text/plain": [
       "'Diversified'"
      ]
     },
     "execution_count": 14,
     "metadata": {},
     "output_type": "execute_result"
    }
   ],
   "source": [
    "page = requests.get(Links[0])\n",
    "soup = BeautifulSoup(page.text, 'lxml')\n",
    "divs = soup.find('div', {'class' : 'inid_name'})\n",
    "divs.find('span').find('strong').find('a').text.strip('\\n ')"
   ]
  },
  {
   "cell_type": "code",
   "execution_count": 15,
   "id": "0cf553de",
   "metadata": {},
   "outputs": [],
   "source": [
    "Sector = []\n",
    "for link in Links:\n",
    "    page = requests.get(link)\n",
    "    soup = BeautifulSoup(page.text, 'lxml')\n",
    "    divs = soup.find('div', {'class' : 'inid_name'})\n",
    "    sector = divs.find('span').find('strong').find('a').text.strip('\\n ')\n",
    "    Sector.append(sector)"
   ]
  },
  {
   "cell_type": "markdown",
   "id": "f5983b96",
   "metadata": {},
   "source": [
    "### Share Name"
   ]
  },
  {
   "cell_type": "code",
   "execution_count": 16,
   "id": "5485363b",
   "metadata": {},
   "outputs": [],
   "source": [
    "Share_Name = []\n",
    "for link in Links:\n",
    "    page = requests.get(link)\n",
    "    soup = BeautifulSoup(page.text, 'lxml')\n",
    "    try:\n",
    "        ul = soup.find_all('ul', {'class' : 'comdetl'})[2]\n",
    "        share_name = ul.find_all('li', {'class' : 'clearfix'})[-3].text.split('\\n')[1]\n",
    "    except IndexError:\n",
    "        share_name = 'NA'\n",
    "    Share_Name.append(share_name)"
   ]
  },
  {
   "cell_type": "markdown",
   "id": "be467007",
   "metadata": {},
   "source": [
    "### Current Price"
   ]
  },
  {
   "cell_type": "code",
   "execution_count": 17,
   "id": "4621bfa6",
   "metadata": {},
   "outputs": [],
   "source": [
    "Current_Price = []\n",
    "for link in Links:\n",
    "    page = requests.get(link)\n",
    "    soup = BeautifulSoup(page.text, 'lxml')\n",
    "    try:\n",
    "        divs = soup.find('div', {'class' : 'inprice1 nsecp'})\n",
    "        current_price = divs.text\n",
    "    except AttributeError:\n",
    "        current_price = 'NA'\n",
    "    Current_Price.append(current_price)"
   ]
  },
  {
   "cell_type": "markdown",
   "id": "3e450ff2",
   "metadata": {},
   "source": [
    "### Price Change"
   ]
  },
  {
   "cell_type": "code",
   "execution_count": 18,
   "id": "028bca3e",
   "metadata": {},
   "outputs": [],
   "source": [
    "Price_Change = []\n",
    "for link in Links:\n",
    "    page = requests.get(link)\n",
    "    soup = BeautifulSoup(page.text, 'lxml')\n",
    "    try:\n",
    "        try:\n",
    "            divs = soup.find('div', {'class' : 'pricupdn nsechange grn'})\n",
    "            price_change = divs.text.split()[0]\n",
    "        except AttributeError:\n",
    "            divs = soup.find('div', {'class' : 'pricupdn nsechange red'})\n",
    "            price_change = divs.text.split()[0]\n",
    "    except AttributeError:\n",
    "        price_change = 'NA'\n",
    "    Price_Change.append(price_change)"
   ]
  },
  {
   "cell_type": "markdown",
   "id": "a1815dc5",
   "metadata": {},
   "source": [
    "### Percentage Change"
   ]
  },
  {
   "cell_type": "code",
   "execution_count": 19,
   "id": "bfc2a774",
   "metadata": {},
   "outputs": [],
   "source": [
    "Percentage_Change = []\n",
    "for link in Links:\n",
    "    page = requests.get(link)\n",
    "    soup = BeautifulSoup(page.text, 'lxml')\n",
    "    try:\n",
    "        try:\n",
    "            divs = soup.find('div', {'class' : 'pricupdn nsechange grn'})\n",
    "            percentage_change = divs.text.split()[1].strip('()')\n",
    "        except AttributeError:\n",
    "            divs = soup.find('div', {'class' : 'pricupdn nsechange red'})\n",
    "            percentage_change = divs.text.split()[1].strip('()')\n",
    "    except AttributeError:\n",
    "        price_change = 'NA'\n",
    "    Percentage_Change.append(percentage_change)"
   ]
  },
  {
   "cell_type": "markdown",
   "id": "16ba6865",
   "metadata": {},
   "source": [
    "### Opening Price"
   ]
  },
  {
   "cell_type": "code",
   "execution_count": 20,
   "id": "545ff864",
   "metadata": {},
   "outputs": [
    {
     "data": {
      "text/plain": [
       "'19,900.00'"
      ]
     },
     "execution_count": 20,
     "metadata": {},
     "output_type": "execute_result"
    }
   ],
   "source": [
    "page = requests.get(Links[0])\n",
    "soup = BeautifulSoup(page.text, 'lxml')\n",
    "divs = soup.find('div', {'class' : 'oview_table'})\n",
    "divs.find('table').find('tbody').find('tr').find('td',{'class':'nseopn bseopn'}).text"
   ]
  },
  {
   "cell_type": "code",
   "execution_count": 21,
   "id": "bbfd72a0",
   "metadata": {},
   "outputs": [],
   "source": [
    "Opening_Price = []\n",
    "for link in Links:\n",
    "    page = requests.get(link)\n",
    "    soup = BeautifulSoup(page.text, 'lxml')\n",
    "    divs = soup.find('div', {'class' : 'oview_table'})\n",
    "    opening_price = divs.find('table').find('tbody').find('td',{'class':'nseopn bseopn'}).text\n",
    "    Opening_Price.append(opening_price)"
   ]
  },
  {
   "cell_type": "markdown",
   "id": "45919b89",
   "metadata": {},
   "source": [
    "### Previous Close"
   ]
  },
  {
   "cell_type": "code",
   "execution_count": 22,
   "id": "8bf42a4a",
   "metadata": {},
   "outputs": [],
   "source": [
    "Previous_Close = []\n",
    "for link in Links:\n",
    "    page = requests.get(link)\n",
    "    soup = BeautifulSoup(page.text, 'lxml')\n",
    "    divs = soup.find('div', {'class' : 'oview_table'})\n",
    "    previous_close = divs.find('table').find('tbody').find('td',{'class':'nseprvclose bseprvclose'}).text\n",
    "    Previous_Close.append(previous_close)"
   ]
  },
  {
   "cell_type": "markdown",
   "id": "60ea66ab",
   "metadata": {},
   "source": [
    "### Volume"
   ]
  },
  {
   "cell_type": "code",
   "execution_count": 23,
   "id": "533a94a7",
   "metadata": {},
   "outputs": [],
   "source": [
    "Volume = []\n",
    "for link in Links:\n",
    "    page = requests.get(link)\n",
    "    soup = BeautifulSoup(page.text, 'lxml')\n",
    "    divs = soup.find('div', {'class' : 'oview_table'})\n",
    "    volume = divs.find('table').find('tbody').find('td',{'class':'nsevol bsevol'}).text\n",
    "    Volume.append(volume)"
   ]
  },
  {
   "cell_type": "markdown",
   "id": "dd78f57e",
   "metadata": {},
   "source": [
    "### High"
   ]
  },
  {
   "cell_type": "code",
   "execution_count": 24,
   "id": "23458da1",
   "metadata": {},
   "outputs": [],
   "source": [
    "High = []\n",
    "for link in Links:\n",
    "    page = requests.get(link)\n",
    "    soup = BeautifulSoup(page.text, 'lxml')\n",
    "    divs = soup.find_all('div', {'class' : 'oview_table'})\n",
    "    high = divs[1].find('table').find('tbody').find('td',{'class':'nseHP bseHP'}).text\n",
    "    High.append(high)"
   ]
  },
  {
   "cell_type": "markdown",
   "id": "8bca62ce",
   "metadata": {},
   "source": [
    "### Low"
   ]
  },
  {
   "cell_type": "code",
   "execution_count": 25,
   "id": "bb272ea4",
   "metadata": {},
   "outputs": [],
   "source": [
    "Low = []\n",
    "for link in Links:\n",
    "    page = requests.get(link)\n",
    "    soup = BeautifulSoup(page.text, 'lxml')\n",
    "    divs = soup.find_all('div', {'class' : 'oview_table'})\n",
    "    low = divs[1].find('table').find('tbody').find('td',{'class':'nseLP bseLP'}).text\n",
    "    Low.append(low)"
   ]
  },
  {
   "cell_type": "markdown",
   "id": "36b5f3e0",
   "metadata": {},
   "source": [
    "### Upper Circuit"
   ]
  },
  {
   "cell_type": "code",
   "execution_count": 26,
   "id": "1c2d6159",
   "metadata": {},
   "outputs": [],
   "source": [
    "Upper_Circuit = []\n",
    "for link in Links:\n",
    "    page = requests.get(link)\n",
    "    soup = BeautifulSoup(page.text, 'lxml')\n",
    "    divs = soup.find_all('div', {'class' : 'oview_table'})\n",
    "    upper_circuit = divs[1].find('table').find('tbody').find('td',{'class':'nseupper_circuit_limit bseupper_circuit_limit'}).text\n",
    "    Upper_Circuit.append(upper_circuit)"
   ]
  },
  {
   "cell_type": "markdown",
   "id": "4aff950d",
   "metadata": {},
   "source": [
    "### Lower Circuit"
   ]
  },
  {
   "cell_type": "code",
   "execution_count": 27,
   "id": "af582cf4",
   "metadata": {},
   "outputs": [],
   "source": [
    "Lower_Circuit = []\n",
    "for link in Links:\n",
    "    page = requests.get(link)\n",
    "    soup = BeautifulSoup(page.text, 'lxml')\n",
    "    divs = soup.find_all('div', {'class' : 'oview_table'})\n",
    "    lower_circuit = divs[1].find('table').find('tbody').find('td',{'class':'nselower_circuit_limit bselower_circuit_limit'}).text\n",
    "    Lower_Circuit.append(lower_circuit)"
   ]
  },
  {
   "cell_type": "markdown",
   "id": "c7c08905",
   "metadata": {},
   "source": [
    "### 52 Week High"
   ]
  },
  {
   "cell_type": "code",
   "execution_count": 28,
   "id": "03e7880e",
   "metadata": {},
   "outputs": [],
   "source": [
    "High_52 = []\n",
    "for link in Links:\n",
    "    page = requests.get(link)\n",
    "    soup = BeautifulSoup(page.text, 'lxml')\n",
    "    divs = soup.find_all('div', {'class' : 'oview_table'})\n",
    "    high_52 = divs[1].find('table').find('tbody').find('td',{'class':'nseH52 bseH52'}).text\n",
    "    High_52.append(high_52)"
   ]
  },
  {
   "cell_type": "markdown",
   "id": "2c529364",
   "metadata": {},
   "source": [
    "### 52 Week Low"
   ]
  },
  {
   "cell_type": "code",
   "execution_count": 29,
   "id": "0ef7b76c",
   "metadata": {},
   "outputs": [],
   "source": [
    "Low_52 = []\n",
    "for link in Links:\n",
    "    page = requests.get(link)\n",
    "    soup = BeautifulSoup(page.text, 'lxml')\n",
    "    divs = soup.find_all('div', {'class' : 'oview_table'})\n",
    "    low_52 = divs[1].find('table').find('tbody').find('td',{'class':'nseL52 bseL52'}).text\n",
    "    Low_52.append(low_52)"
   ]
  },
  {
   "cell_type": "markdown",
   "id": "1c7df01e",
   "metadata": {},
   "source": [
    "### Face Value"
   ]
  },
  {
   "cell_type": "code",
   "execution_count": 30,
   "id": "af442d04",
   "metadata": {},
   "outputs": [],
   "source": [
    "Face_Value = []\n",
    "for link in Links:\n",
    "    page = requests.get(link)\n",
    "    soup = BeautifulSoup(page.text, 'lxml')\n",
    "    divs = soup.find_all('div', {'class' : 'oview_table'})\n",
    "    face_value = divs[2].find('table').find('tbody').find('td',{'class':'nsefv bsefv'}).text\n",
    "    Face_Value.append(face_value)"
   ]
  },
  {
   "cell_type": "markdown",
   "id": "8cda771e",
   "metadata": {},
   "source": [
    "### Market Capital"
   ]
  },
  {
   "cell_type": "code",
   "execution_count": 31,
   "id": "eb2bfeb3",
   "metadata": {},
   "outputs": [],
   "source": [
    "Market_Capital = []\n",
    "for link in Links:\n",
    "    page = requests.get(link)\n",
    "    soup = BeautifulSoup(page.text, 'lxml')\n",
    "    divs = soup.find_all('div', {'class' : 'oview_table'})\n",
    "    market_capital = divs[3].find('table').find('tbody').find('td',{'class':'nsemktcap bsemktcap'}).text\n",
    "    Market_Capital.append(market_capital)"
   ]
  },
  {
   "cell_type": "markdown",
   "id": "5211cb2b",
   "metadata": {},
   "source": [
    "### State (Registered Office)"
   ]
  },
  {
   "cell_type": "code",
   "execution_count": 32,
   "id": "1b6fd17b",
   "metadata": {},
   "outputs": [],
   "source": [
    "State = []\n",
    "for link in Links:\n",
    "    page = requests.get(link)\n",
    "    soup = BeautifulSoup(page.text, 'lxml')\n",
    "    try:\n",
    "        li = soup.find_all('li', {'class' : 'clearfix'})\n",
    "        state = li[15].text.split('\\n')[1]\n",
    "    except AttributeError:\n",
    "        state = 'NA'\n",
    "    State.append(state)"
   ]
  },
  {
   "cell_type": "markdown",
   "id": "a1db7644",
   "metadata": {},
   "source": [
    "### Website"
   ]
  },
  {
   "cell_type": "code",
   "execution_count": 33,
   "id": "5791c22b",
   "metadata": {},
   "outputs": [],
   "source": [
    "Website = []\n",
    "for link in Links:\n",
    "    page = requests.get(link)\n",
    "    soup = BeautifulSoup(page.text, 'lxml')\n",
    "    try:\n",
    "        ul = soup.find_all('ul', {'class' : 'comdetl'})[1]\n",
    "        website = ul.find_all('li', {'class' : 'clearfix'})[-1].text.split('\\n')[1]\n",
    "    except IndexError:\n",
    "        website = 'NA'\n",
    "    Website.append(website)"
   ]
  },
  {
   "cell_type": "markdown",
   "id": "a780ef1a",
   "metadata": {},
   "source": [
    "### DATAFRAME"
   ]
  },
  {
   "cell_type": "code",
   "execution_count": 34,
   "id": "2bc73250",
   "metadata": {},
   "outputs": [],
   "source": [
    "import numpy as np\n",
    "import pandas as pd "
   ]
  },
  {
   "cell_type": "code",
   "execution_count": 35,
   "id": "bc56a662",
   "metadata": {},
   "outputs": [
    {
     "data": {
      "text/html": [
       "<div>\n",
       "<style scoped>\n",
       "    .dataframe tbody tr th:only-of-type {\n",
       "        vertical-align: middle;\n",
       "    }\n",
       "\n",
       "    .dataframe tbody tr th {\n",
       "        vertical-align: top;\n",
       "    }\n",
       "\n",
       "    .dataframe thead th {\n",
       "        text-align: right;\n",
       "    }\n",
       "</style>\n",
       "<table border=\"1\" class=\"dataframe\">\n",
       "  <thead>\n",
       "    <tr style=\"text-align: right;\">\n",
       "      <th></th>\n",
       "    </tr>\n",
       "  </thead>\n",
       "  <tbody>\n",
       "  </tbody>\n",
       "</table>\n",
       "</div>"
      ],
      "text/plain": [
       "Empty DataFrame\n",
       "Columns: []\n",
       "Index: []"
      ]
     },
     "execution_count": 35,
     "metadata": {},
     "output_type": "execute_result"
    }
   ],
   "source": [
    "Stocks = pd.DataFrame()\n",
    "Stocks"
   ]
  },
  {
   "cell_type": "code",
   "execution_count": 36,
   "id": "a63335ca",
   "metadata": {},
   "outputs": [],
   "source": [
    "Stocks['Company_Name'] = Company_Name\n",
    "Stocks['Sector'] = Sector\n",
    "Stocks['Share_Name'] = Share_Name\n",
    "Stocks['Current_Price'] = Current_Price\n",
    "Stocks['Price_Change'] = Price_Change\n",
    "Stocks['Percentage_Change'] = Percentage_Change\n",
    "Stocks['Opening_Price'] = Opening_Price\n",
    "Stocks['Previous_Close'] = Previous_Close\n",
    "Stocks['Volume'] = Volume\n",
    "Stocks['High'] = High\n",
    "Stocks['Low'] = Low\n",
    "Stocks['Upper_Circuit'] = Upper_Circuit\n",
    "Stocks['Lower_Circuit'] = Lower_Circuit\n",
    "Stocks['High_52'] = High_52\n",
    "Stocks['Low_52'] = Low_52\n",
    "Stocks['Face_Value'] = Face_Value\n",
    "Stocks['Market_Capital'] = Market_Capital\n",
    "Stocks['State'] = State\n",
    "Stocks['Website'] = Website"
   ]
  },
  {
   "cell_type": "code",
   "execution_count": 37,
   "id": "bc615f2f",
   "metadata": {
    "scrolled": true
   },
   "outputs": [
    {
     "data": {
      "text/html": [
       "<div>\n",
       "<style scoped>\n",
       "    .dataframe tbody tr th:only-of-type {\n",
       "        vertical-align: middle;\n",
       "    }\n",
       "\n",
       "    .dataframe tbody tr th {\n",
       "        vertical-align: top;\n",
       "    }\n",
       "\n",
       "    .dataframe thead th {\n",
       "        text-align: right;\n",
       "    }\n",
       "</style>\n",
       "<table border=\"1\" class=\"dataframe\">\n",
       "  <thead>\n",
       "    <tr style=\"text-align: right;\">\n",
       "      <th></th>\n",
       "      <th>Company_Name</th>\n",
       "      <th>Sector</th>\n",
       "      <th>Share_Name</th>\n",
       "      <th>Current_Price</th>\n",
       "      <th>Price_Change</th>\n",
       "      <th>Percentage_Change</th>\n",
       "      <th>Opening_Price</th>\n",
       "      <th>Previous_Close</th>\n",
       "      <th>Volume</th>\n",
       "      <th>High</th>\n",
       "      <th>Low</th>\n",
       "      <th>Upper_Circuit</th>\n",
       "      <th>Lower_Circuit</th>\n",
       "      <th>High_52</th>\n",
       "      <th>Low_52</th>\n",
       "      <th>Face_Value</th>\n",
       "      <th>Market_Capital</th>\n",
       "      <th>State</th>\n",
       "      <th>Website</th>\n",
       "    </tr>\n",
       "  </thead>\n",
       "  <tbody>\n",
       "    <tr>\n",
       "      <th>0</th>\n",
       "      <td>3M India Ltd.</td>\n",
       "      <td>Diversified</td>\n",
       "      <td>3MINDIA</td>\n",
       "      <td>20,026.75</td>\n",
       "      <td>347.60</td>\n",
       "      <td>1.77%</td>\n",
       "      <td>19,900.00</td>\n",
       "      <td>19,679.15</td>\n",
       "      <td>12,906.00</td>\n",
       "      <td>20,249.80</td>\n",
       "      <td>19,738.75</td>\n",
       "      <td>23,614.95</td>\n",
       "      <td>15,743.35</td>\n",
       "      <td>31,000.00</td>\n",
       "      <td>19,433.75</td>\n",
       "      <td>10.00</td>\n",
       "      <td>22,560</td>\n",
       "      <td>Karnataka</td>\n",
       "      <td>http://www.kfintech.com</td>\n",
       "    </tr>\n",
       "    <tr>\n",
       "      <th>1</th>\n",
       "      <td>Aarti Drugs Ltd.</td>\n",
       "      <td>Pharmaceuticals</td>\n",
       "      <td>AARTIDRUGS</td>\n",
       "      <td>454.85</td>\n",
       "      <td>6.25</td>\n",
       "      <td>1.39%</td>\n",
       "      <td>450.00</td>\n",
       "      <td>448.60</td>\n",
       "      <td>137,244.00</td>\n",
       "      <td>463.60</td>\n",
       "      <td>450.00</td>\n",
       "      <td>538.30</td>\n",
       "      <td>358.90</td>\n",
       "      <td>841.80</td>\n",
       "      <td>437.35</td>\n",
       "      <td>10.00</td>\n",
       "      <td>4,212</td>\n",
       "      <td>Maharashtra</td>\n",
       "      <td>http://www.linkintime.co.in</td>\n",
       "    </tr>\n",
       "    <tr>\n",
       "      <th>2</th>\n",
       "      <td>Aarti Industries Ltd.</td>\n",
       "      <td>Chemicals</td>\n",
       "      <td>AARTIIND</td>\n",
       "      <td>891.60</td>\n",
       "      <td>32.15</td>\n",
       "      <td>3.74%</td>\n",
       "      <td>875.00</td>\n",
       "      <td>859.45</td>\n",
       "      <td>1,550,992.00</td>\n",
       "      <td>898.55</td>\n",
       "      <td>868.50</td>\n",
       "      <td>945.35</td>\n",
       "      <td>773.55</td>\n",
       "      <td>1,168.00</td>\n",
       "      <td>596.28</td>\n",
       "      <td>5.00</td>\n",
       "      <td>32,321</td>\n",
       "      <td>Gujarat</td>\n",
       "      <td>http://www.linkintime.co.in</td>\n",
       "    </tr>\n",
       "    <tr>\n",
       "      <th>3</th>\n",
       "      <td>AAVAS Financiers  Ltd.</td>\n",
       "      <td>Finance - General</td>\n",
       "      <td>AAVAS</td>\n",
       "      <td>2,489.85</td>\n",
       "      <td>46.60</td>\n",
       "      <td>1.91%</td>\n",
       "      <td>2,475.00</td>\n",
       "      <td>2,443.25</td>\n",
       "      <td>142,815.00</td>\n",
       "      <td>2,506.65</td>\n",
       "      <td>2,400.05</td>\n",
       "      <td>2,931.90</td>\n",
       "      <td>1,954.60</td>\n",
       "      <td>3,340.00</td>\n",
       "      <td>2,124.15</td>\n",
       "      <td>10.00</td>\n",
       "      <td>19,654</td>\n",
       "      <td>Rajasthan</td>\n",
       "      <td>http://www.linkintime.co.in</td>\n",
       "    </tr>\n",
       "    <tr>\n",
       "      <th>4</th>\n",
       "      <td>Aditya Birla Capital Ltd.</td>\n",
       "      <td>Finance - Investments</td>\n",
       "      <td>ABCAPITAL</td>\n",
       "      <td>109.85</td>\n",
       "      <td>1.30</td>\n",
       "      <td>1.20%</td>\n",
       "      <td>110.00</td>\n",
       "      <td>108.55</td>\n",
       "      <td>4,259,155.00</td>\n",
       "      <td>110.85</td>\n",
       "      <td>108.00</td>\n",
       "      <td>119.40</td>\n",
       "      <td>97.70</td>\n",
       "      <td>139.20</td>\n",
       "      <td>96.35</td>\n",
       "      <td>10.00</td>\n",
       "      <td>26,543</td>\n",
       "      <td>Gujarat</td>\n",
       "      <td>http://www.kfintech.com</td>\n",
       "    </tr>\n",
       "  </tbody>\n",
       "</table>\n",
       "</div>"
      ],
      "text/plain": [
       "                Company_Name                 Sector  Share_Name Current_Price  \\\n",
       "0              3M India Ltd.            Diversified     3MINDIA     20,026.75   \n",
       "1           Aarti Drugs Ltd.        Pharmaceuticals  AARTIDRUGS        454.85   \n",
       "2      Aarti Industries Ltd.              Chemicals    AARTIIND        891.60   \n",
       "3     AAVAS Financiers  Ltd.      Finance - General       AAVAS      2,489.85   \n",
       "4  Aditya Birla Capital Ltd.  Finance - Investments   ABCAPITAL        109.85   \n",
       "\n",
       "  Price_Change Percentage_Change Opening_Price Previous_Close        Volume  \\\n",
       "0       347.60             1.77%     19,900.00      19,679.15     12,906.00   \n",
       "1         6.25             1.39%        450.00         448.60    137,244.00   \n",
       "2        32.15             3.74%        875.00         859.45  1,550,992.00   \n",
       "3        46.60             1.91%      2,475.00       2,443.25    142,815.00   \n",
       "4         1.30             1.20%        110.00         108.55  4,259,155.00   \n",
       "\n",
       "        High        Low Upper_Circuit Lower_Circuit    High_52     Low_52  \\\n",
       "0  20,249.80  19,738.75     23,614.95     15,743.35  31,000.00  19,433.75   \n",
       "1     463.60     450.00        538.30        358.90     841.80     437.35   \n",
       "2     898.55     868.50        945.35        773.55   1,168.00     596.28   \n",
       "3   2,506.65   2,400.05      2,931.90      1,954.60   3,340.00   2,124.15   \n",
       "4     110.85     108.00        119.40         97.70     139.20      96.35   \n",
       "\n",
       "  Face_Value Market_Capital        State                      Website  \n",
       "0      10.00         22,560    Karnataka      http://www.kfintech.com  \n",
       "1      10.00          4,212  Maharashtra  http://www.linkintime.co.in  \n",
       "2       5.00         32,321      Gujarat  http://www.linkintime.co.in  \n",
       "3      10.00         19,654    Rajasthan  http://www.linkintime.co.in  \n",
       "4      10.00         26,543      Gujarat      http://www.kfintech.com  "
      ]
     },
     "execution_count": 37,
     "metadata": {},
     "output_type": "execute_result"
    }
   ],
   "source": [
    "Stocks.head()"
   ]
  },
  {
   "cell_type": "markdown",
   "id": "b82c7c9d",
   "metadata": {},
   "source": [
    "### About Dataframe"
   ]
  },
  {
   "cell_type": "code",
   "execution_count": 38,
   "id": "b1115823",
   "metadata": {},
   "outputs": [
    {
     "data": {
      "text/plain": [
       "(471, 19)"
      ]
     },
     "execution_count": 38,
     "metadata": {},
     "output_type": "execute_result"
    }
   ],
   "source": [
    "Stocks.shape"
   ]
  },
  {
   "cell_type": "code",
   "execution_count": 39,
   "id": "8908f61c",
   "metadata": {},
   "outputs": [
    {
     "name": "stdout",
     "output_type": "stream",
     "text": [
      "<class 'pandas.core.frame.DataFrame'>\n",
      "RangeIndex: 471 entries, 0 to 470\n",
      "Data columns (total 19 columns):\n",
      " #   Column             Non-Null Count  Dtype \n",
      "---  ------             --------------  ----- \n",
      " 0   Company_Name       471 non-null    object\n",
      " 1   Sector             471 non-null    object\n",
      " 2   Share_Name         471 non-null    object\n",
      " 3   Current_Price      471 non-null    object\n",
      " 4   Price_Change       471 non-null    object\n",
      " 5   Percentage_Change  471 non-null    object\n",
      " 6   Opening_Price      471 non-null    object\n",
      " 7   Previous_Close     471 non-null    object\n",
      " 8   Volume             471 non-null    object\n",
      " 9   High               471 non-null    object\n",
      " 10  Low                471 non-null    object\n",
      " 11  Upper_Circuit      471 non-null    object\n",
      " 12  Lower_Circuit      471 non-null    object\n",
      " 13  High_52            471 non-null    object\n",
      " 14  Low_52             471 non-null    object\n",
      " 15  Face_Value         471 non-null    object\n",
      " 16  Market_Capital     471 non-null    object\n",
      " 17  State              471 non-null    object\n",
      " 18  Website            471 non-null    object\n",
      "dtypes: object(19)\n",
      "memory usage: 70.0+ KB\n"
     ]
    }
   ],
   "source": [
    "Stocks.info()"
   ]
  },
  {
   "cell_type": "markdown",
   "id": "f0581b10",
   "metadata": {},
   "source": [
    "### Converting to CSV Format"
   ]
  },
  {
   "cell_type": "code",
   "execution_count": 40,
   "id": "53a193e9",
   "metadata": {},
   "outputs": [
    {
     "data": {
      "text/html": [
       "<div>\n",
       "<style scoped>\n",
       "    .dataframe tbody tr th:only-of-type {\n",
       "        vertical-align: middle;\n",
       "    }\n",
       "\n",
       "    .dataframe tbody tr th {\n",
       "        vertical-align: top;\n",
       "    }\n",
       "\n",
       "    .dataframe thead th {\n",
       "        text-align: right;\n",
       "    }\n",
       "</style>\n",
       "<table border=\"1\" class=\"dataframe\">\n",
       "  <thead>\n",
       "    <tr style=\"text-align: right;\">\n",
       "      <th></th>\n",
       "      <th>Company_Name</th>\n",
       "      <th>Sector</th>\n",
       "      <th>Share_Name</th>\n",
       "      <th>Current_Price</th>\n",
       "      <th>Price_Change</th>\n",
       "      <th>Percentage_Change</th>\n",
       "      <th>Opening_Price</th>\n",
       "      <th>Previous_Close</th>\n",
       "      <th>Volume</th>\n",
       "      <th>High</th>\n",
       "      <th>Low</th>\n",
       "      <th>Upper_Circuit</th>\n",
       "      <th>Lower_Circuit</th>\n",
       "      <th>High_52</th>\n",
       "      <th>Low_52</th>\n",
       "      <th>Face_Value</th>\n",
       "      <th>Market_Capital</th>\n",
       "      <th>State</th>\n",
       "      <th>Website</th>\n",
       "    </tr>\n",
       "  </thead>\n",
       "  <tbody>\n",
       "    <tr>\n",
       "      <th>0</th>\n",
       "      <td>3M India Ltd.</td>\n",
       "      <td>Diversified</td>\n",
       "      <td>3MINDIA</td>\n",
       "      <td>20,026.75</td>\n",
       "      <td>347.60</td>\n",
       "      <td>1.77%</td>\n",
       "      <td>19,900.00</td>\n",
       "      <td>19,679.15</td>\n",
       "      <td>12,906.00</td>\n",
       "      <td>20,249.80</td>\n",
       "      <td>19,738.75</td>\n",
       "      <td>23,614.95</td>\n",
       "      <td>15,743.35</td>\n",
       "      <td>31,000.00</td>\n",
       "      <td>19,433.75</td>\n",
       "      <td>10.00</td>\n",
       "      <td>22,560</td>\n",
       "      <td>Karnataka</td>\n",
       "      <td>http://www.kfintech.com</td>\n",
       "    </tr>\n",
       "    <tr>\n",
       "      <th>1</th>\n",
       "      <td>Aarti Drugs Ltd.</td>\n",
       "      <td>Pharmaceuticals</td>\n",
       "      <td>AARTIDRUGS</td>\n",
       "      <td>454.85</td>\n",
       "      <td>6.25</td>\n",
       "      <td>1.39%</td>\n",
       "      <td>450.00</td>\n",
       "      <td>448.60</td>\n",
       "      <td>137,244.00</td>\n",
       "      <td>463.60</td>\n",
       "      <td>450.00</td>\n",
       "      <td>538.30</td>\n",
       "      <td>358.90</td>\n",
       "      <td>841.80</td>\n",
       "      <td>437.35</td>\n",
       "      <td>10.00</td>\n",
       "      <td>4,212</td>\n",
       "      <td>Maharashtra</td>\n",
       "      <td>http://www.linkintime.co.in</td>\n",
       "    </tr>\n",
       "    <tr>\n",
       "      <th>2</th>\n",
       "      <td>Aarti Industries Ltd.</td>\n",
       "      <td>Chemicals</td>\n",
       "      <td>AARTIIND</td>\n",
       "      <td>891.60</td>\n",
       "      <td>32.15</td>\n",
       "      <td>3.74%</td>\n",
       "      <td>875.00</td>\n",
       "      <td>859.45</td>\n",
       "      <td>1,550,992.00</td>\n",
       "      <td>898.55</td>\n",
       "      <td>868.50</td>\n",
       "      <td>945.35</td>\n",
       "      <td>773.55</td>\n",
       "      <td>1,168.00</td>\n",
       "      <td>596.28</td>\n",
       "      <td>5.00</td>\n",
       "      <td>32,321</td>\n",
       "      <td>Gujarat</td>\n",
       "      <td>http://www.linkintime.co.in</td>\n",
       "    </tr>\n",
       "    <tr>\n",
       "      <th>3</th>\n",
       "      <td>AAVAS Financiers  Ltd.</td>\n",
       "      <td>Finance - General</td>\n",
       "      <td>AAVAS</td>\n",
       "      <td>2,489.85</td>\n",
       "      <td>46.60</td>\n",
       "      <td>1.91%</td>\n",
       "      <td>2,475.00</td>\n",
       "      <td>2,443.25</td>\n",
       "      <td>142,815.00</td>\n",
       "      <td>2,506.65</td>\n",
       "      <td>2,400.05</td>\n",
       "      <td>2,931.90</td>\n",
       "      <td>1,954.60</td>\n",
       "      <td>3,340.00</td>\n",
       "      <td>2,124.15</td>\n",
       "      <td>10.00</td>\n",
       "      <td>19,654</td>\n",
       "      <td>Rajasthan</td>\n",
       "      <td>http://www.linkintime.co.in</td>\n",
       "    </tr>\n",
       "    <tr>\n",
       "      <th>4</th>\n",
       "      <td>Aditya Birla Capital Ltd.</td>\n",
       "      <td>Finance - Investments</td>\n",
       "      <td>ABCAPITAL</td>\n",
       "      <td>109.85</td>\n",
       "      <td>1.30</td>\n",
       "      <td>1.20%</td>\n",
       "      <td>110.00</td>\n",
       "      <td>108.55</td>\n",
       "      <td>4,259,155.00</td>\n",
       "      <td>110.85</td>\n",
       "      <td>108.00</td>\n",
       "      <td>119.40</td>\n",
       "      <td>97.70</td>\n",
       "      <td>139.20</td>\n",
       "      <td>96.35</td>\n",
       "      <td>10.00</td>\n",
       "      <td>26,543</td>\n",
       "      <td>Gujarat</td>\n",
       "      <td>http://www.kfintech.com</td>\n",
       "    </tr>\n",
       "  </tbody>\n",
       "</table>\n",
       "</div>"
      ],
      "text/plain": [
       "                Company_Name                 Sector  Share_Name Current_Price  \\\n",
       "0              3M India Ltd.            Diversified     3MINDIA     20,026.75   \n",
       "1           Aarti Drugs Ltd.        Pharmaceuticals  AARTIDRUGS        454.85   \n",
       "2      Aarti Industries Ltd.              Chemicals    AARTIIND        891.60   \n",
       "3     AAVAS Financiers  Ltd.      Finance - General       AAVAS      2,489.85   \n",
       "4  Aditya Birla Capital Ltd.  Finance - Investments   ABCAPITAL        109.85   \n",
       "\n",
       "  Price_Change Percentage_Change Opening_Price Previous_Close        Volume  \\\n",
       "0       347.60             1.77%     19,900.00      19,679.15     12,906.00   \n",
       "1         6.25             1.39%        450.00         448.60    137,244.00   \n",
       "2        32.15             3.74%        875.00         859.45  1,550,992.00   \n",
       "3        46.60             1.91%      2,475.00       2,443.25    142,815.00   \n",
       "4         1.30             1.20%        110.00         108.55  4,259,155.00   \n",
       "\n",
       "        High        Low Upper_Circuit Lower_Circuit    High_52     Low_52  \\\n",
       "0  20,249.80  19,738.75     23,614.95     15,743.35  31,000.00  19,433.75   \n",
       "1     463.60     450.00        538.30        358.90     841.80     437.35   \n",
       "2     898.55     868.50        945.35        773.55   1,168.00     596.28   \n",
       "3   2,506.65   2,400.05      2,931.90      1,954.60   3,340.00   2,124.15   \n",
       "4     110.85     108.00        119.40         97.70     139.20      96.35   \n",
       "\n",
       "  Face_Value Market_Capital        State                      Website  \n",
       "0      10.00         22,560    Karnataka      http://www.kfintech.com  \n",
       "1      10.00          4,212  Maharashtra  http://www.linkintime.co.in  \n",
       "2       5.00         32,321      Gujarat  http://www.linkintime.co.in  \n",
       "3      10.00         19,654    Rajasthan  http://www.linkintime.co.in  \n",
       "4      10.00         26,543      Gujarat      http://www.kfintech.com  "
      ]
     },
     "execution_count": 40,
     "metadata": {},
     "output_type": "execute_result"
    }
   ],
   "source": [
    "Stocks.head()"
   ]
  },
  {
   "cell_type": "code",
   "execution_count": 41,
   "id": "6ba2b10c",
   "metadata": {},
   "outputs": [],
   "source": [
    "Stocks.to_csv('WebScraping.csv')"
   ]
  }
 ],
 "metadata": {
  "kernelspec": {
   "display_name": "Python 3 (ipykernel)",
   "language": "python",
   "name": "python3"
  },
  "language_info": {
   "codemirror_mode": {
    "name": "ipython",
    "version": 3
   },
   "file_extension": ".py",
   "mimetype": "text/x-python",
   "name": "python",
   "nbconvert_exporter": "python",
   "pygments_lexer": "ipython3",
   "version": "3.9.7"
  }
 },
 "nbformat": 4,
 "nbformat_minor": 5
}
